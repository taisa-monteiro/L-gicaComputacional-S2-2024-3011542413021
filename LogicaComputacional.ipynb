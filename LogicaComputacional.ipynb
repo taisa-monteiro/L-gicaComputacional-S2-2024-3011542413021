{
  "nbformat": 4,
  "nbformat_minor": 0,
  "metadata": {
    "colab": {
      "provenance": [],
      "authorship_tag": "ABX9TyN9ZEH4Um5gvVHc+k9XTy5E"
    },
    "kernelspec": {
      "name": "python3",
      "display_name": "Python 3"
    },
    "language_info": {
      "name": "python"
    }
  },
  "cells": [
    {
      "cell_type": "code",
      "source": [
        "def implica(a, b):\n",
        "    return not a or b  # p → q é equivalente a ¬p ∨ q\n",
        "\n",
        "def e(a, b):\n",
        "    return a and b  # p ∧ q\n",
        "\n",
        "def ou(a, b):\n",
        "    return a or b  # p ∨ q\n",
        "\n",
        "# Gera a tabela-verdade\n",
        "print(\"p\\tq\\tr\\ts\\t((p → q) ∧ (r → s) ∧ (p ∨ r)) → (q ∨ s)\")\n",
        "for p in [False, True]:\n",
        "    for q in [False, True]:\n",
        "        for r in [False, True]:\n",
        "            for s in [False, True]:\n",
        "                lado_esquerdo = e(implica(p, q), e(implica(r, s), ou(p, r)))\n",
        "                lado_direito = ou(q, s)\n",
        "                resultado = implica(lado_esquerdo, lado_direito)\n",
        "                print(f\"{p}\\t{q}\\t{r}\\t{s}\\t{resultado}\")\n",
        "\n",
        "#TrabalhoFinalizado"
      ],
      "metadata": {
        "colab": {
          "base_uri": "https://localhost:8080/"
        },
        "id": "9vHVkSNKgXJ0",
        "outputId": "f4e77137-14d9-4a39-e6f9-60ef8b679bf3"
      },
      "execution_count": 14,
      "outputs": [
        {
          "output_type": "stream",
          "name": "stdout",
          "text": [
            "p\tq\tr\ts\t((p → q) ∧ (r → s) ∧ (p ∨ r)) → (q ∨ s)\n",
            "False\tFalse\tFalse\tFalse\tTrue\n",
            "False\tFalse\tFalse\tTrue\tTrue\n",
            "False\tFalse\tTrue\tFalse\tTrue\n",
            "False\tFalse\tTrue\tTrue\tTrue\n",
            "False\tTrue\tFalse\tFalse\tTrue\n",
            "False\tTrue\tFalse\tTrue\tTrue\n",
            "False\tTrue\tTrue\tFalse\tTrue\n",
            "False\tTrue\tTrue\tTrue\tTrue\n",
            "True\tFalse\tFalse\tFalse\tTrue\n",
            "True\tFalse\tFalse\tTrue\tTrue\n",
            "True\tFalse\tTrue\tFalse\tTrue\n",
            "True\tFalse\tTrue\tTrue\tTrue\n",
            "True\tTrue\tFalse\tFalse\tTrue\n",
            "True\tTrue\tFalse\tTrue\tTrue\n",
            "True\tTrue\tTrue\tFalse\tTrue\n",
            "True\tTrue\tTrue\tTrue\tTrue\n"
          ]
        }
      ]
    }
  ]
}